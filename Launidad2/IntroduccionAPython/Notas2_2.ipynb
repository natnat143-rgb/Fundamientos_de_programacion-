{
  "metadata": {
    "kernelspec": {
      "name": "xpython",
      "display_name": "Python 3.13 (XPython)",
      "language": "python"
    },
    "language_info": {
      "file_extension": ".py",
      "mimetype": "text/x-python",
      "name": "python",
      "version": "3.13.1"
    }
  },
  "nbformat_minor": 5,
  "nbformat": 4,
  "cells": [
    {
      "id": "d83f01bd-7189-44c3-82b7-e151e40539a4",
      "cell_type": "code",
      "source": "for i in range (1,5):\n    print (\"Número\", i)\n",
      "metadata": {
        "trusted": true
      },
      "outputs": [
        {
          "name": "stdout",
          "output_type": "stream",
          "text": "Número 1\nNúmero 2\nNúmero 3\nNúmero 4\n"
        }
      ],
      "execution_count": 1
    },
    {
      "id": "82aab1bc-cdf0-483e-9d54-f151206967c9",
      "cell_type": "code",
      "source": "suma = 0\n\nfor i in range(1, 11):\n    suma += i\n    \nprint(\"La suma de los primeros 10 números es:\", suma)",
      "metadata": {
        "trusted": true
      },
      "outputs": [
        {
          "name": "stdout",
          "output_type": "stream",
          "text": "La suma de los primeros 10 números es: 55\n"
        }
      ],
      "execution_count": 2
    },
    {
      "id": "6d663236-c96e-4fe9-9529-7a57e2ec93aa",
      "cell_type": "code",
      "source": "nombres = [\"Ed\", \"Jorge\", \"María\", \"Luisa\"]\n\nfor nombre in nombres:\n    print(\"Hola,\", nombre)",
      "metadata": {
        "trusted": true
      },
      "outputs": [
        {
          "name": "stdout",
          "output_type": "stream",
          "text": "Hola, Ed\nHola, Jorge\nHola, María\nHola, Luisa\n"
        }
      ],
      "execution_count": 3
    },
    {
      "id": "c0e5802f-dee7-4fc1-aff5-61d91cee04b5",
      "cell_type": "code",
      "source": "#Hacer que un input de tu cumpleaños\nCumple = int(input(\"¿Cuál es tu edad?\"))\nfor i in range(1, Cumple):\n    print(\"Feliz cumpleaños número\", i)",
      "metadata": {
        "trusted": true
      },
      "outputs": [
        {
          "output_type": "stream",
          "name": "stdin",
          "text": "¿Cuál es tu edad? 17\n"
        },
        {
          "name": "stdout",
          "output_type": "stream",
          "text": "Feliz cumpleaños número 1\nFeliz cumpleaños número 2\nFeliz cumpleaños número 3\nFeliz cumpleaños número 4\nFeliz cumpleaños número 5\nFeliz cumpleaños número 6\nFeliz cumpleaños número 7\nFeliz cumpleaños número 8\nFeliz cumpleaños número 9\nFeliz cumpleaños número 10\nFeliz cumpleaños número 11\nFeliz cumpleaños número 12\nFeliz cumpleaños número 13\nFeliz cumpleaños número 14\nFeliz cumpleaños número 15\nFeliz cumpleaños número 16\n"
        }
      ],
      "execution_count": 4
    },
    {
      "id": "0dcf2a06-a2d9-4304-893d-bf7997e78035",
      "cell_type": "code",
      "source": "#Hacer que con un input se agregue la edad\nopcion = int (input(\"Escoge una opcion\"))\nif opcion == 1:\n    print(\"Has elegido guardar el archivo\")\nelif opcion == 2:\n    print(\"Has elegido abrir un archivo\")\nelif opcion == 3:\n    print(\"Has elegido salir del programa\")\nelse:\n    print(\"Opción no válida\")",
      "metadata": {
        "trusted": true
      },
      "outputs": [
        {
          "output_type": "stream",
          "name": "stdin",
          "text": "Escoge una opcion 1\n"
        },
        {
          "name": "stdout",
          "output_type": "stream",
          "text": "Has elegido guardar el archivo\n"
        }
      ],
      "execution_count": 5
    },
    {
      "id": "2b33b48b-891e-40b4-9026-024c7342c958",
      "cell_type": "code",
      "source": "#Hacer que con un input se agregue la calificación\nopcion = int (input(\"Ingresa tu calificación\"))\ncalificacion = 75\n\nif calificacion >= 90:\n    print(\"Excelente\")\nelif calificacion >= 70:\n    print(\"Aprobado\")\nelse:\n    print(\"Reprobado\")",
      "metadata": {
        "trusted": true
      },
      "outputs": [
        {
          "output_type": "stream",
          "name": "stdin",
          "text": "Ingresa tu calificación 80\n"
        },
        {
          "name": "stdout",
          "output_type": "stream",
          "text": "Aprobado\n"
        }
      ],
      "execution_count": 7
    },
    {
      "id": "f030c83a-98b3-4387-ba29-47ae011303ac",
      "cell_type": "code",
      "source": "numero_secreto = 7\nadivinanza = 0\n\nwhile adivinanza != numero_secreto:\n    adivinanza = int(input(\"Adivina el número (1-10): \"))\n\nprint(\"¡Correcto! El número era\", numero_secreto)",
      "metadata": {
        "trusted": true
      },
      "outputs": [
        {
          "output_type": "stream",
          "name": "stdin",
          "text": "Adivina el número (1-10):  6\nAdivina el número (1-10):  7\n"
        },
        {
          "name": "stdout",
          "output_type": "stream",
          "text": "¡Correcto! El número era 7\n"
        }
      ],
      "execution_count": 8
    },
    {
      "id": "754e6fb7-520b-43cb-ab0e-c21d0287b3c7",
      "cell_type": "code",
      "source": "contador = 1\n\nwhile contador <= 5:\n    print(\"Número:\", contador)\n    contador += 1  # incrementa el contador",
      "metadata": {
        "trusted": true
      },
      "outputs": [
        {
          "name": "stdout",
          "output_type": "stream",
          "text": "Número: 1\nNúmero: 2\nNúmero: 3\nNúmero: 4\nNúmero: 5\n"
        }
      ],
      "execution_count": 9
    },
    {
      "id": "7f228d32-bd84-4f19-b331-d05b921235ed",
      "cell_type": "code",
      "source": "",
      "metadata": {
        "trusted": true
      },
      "outputs": [],
      "execution_count": null
    }
  ]
}