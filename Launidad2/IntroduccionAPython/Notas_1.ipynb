{
  "metadata": {
    "kernelspec": {
      "name": "xpython",
      "display_name": "Python 3.13 (XPython)",
      "language": "python"
    },
    "language_info": {
      "file_extension": ".py",
      "mimetype": "text/x-python",
      "name": "python",
      "version": "3.13.1"
    }
  },
  "nbformat_minor": 5,
  "nbformat": 4,
  "cells": [
    {
      "id": "cf049900-40eb-43e1-833b-e866a737b5f4",
      "cell_type": "code",
      "source": "print(\"Hola mundo\")",
      "metadata": {
        "trusted": true
      },
      "outputs": [
        {
          "name": "stdout",
          "output_type": "stream",
          "text": "Hola mundo\n"
        }
      ],
      "execution_count": 1
    },
    {
      "id": "79cf6322-b0ad-43ba-b77c-8b0b96ea98ce",
      "cell_type": "code",
      "source": "NUMERO=10\nCONDICIONAL=7\nif NUMERO>=5:\n    print(f\"El número es mayor a 5\")\nelse:\n    print(f\"El número es menor\")",
      "metadata": {
        "trusted": true
      },
      "outputs": [
        {
          "name": "stdout",
          "output_type": "stream",
          "text": "El número es mayor a 5\n"
        }
      ],
      "execution_count": 23
    },
    {
      "id": "84fbaef2-3d41-4628-8b62-610040613099",
      "cell_type": "code",
      "source": "EDAD=16\nif EDAD >18:\n    print(f\"Eres mayor de edad\")\nelif EDAD ==18:\n    print(f\"Vaya a sacar su INE\")\nelse:\n    print(f\"Eres menor de edad\")",
      "metadata": {
        "trusted": true
      },
      "outputs": [
        {
          "name": "stdout",
          "output_type": "stream",
          "text": "Eres menor de edad\n"
        }
      ],
      "execution_count": 34
    },
    {
      "id": "73f22584-108c-4807-b88c-f8f21827c055",
      "cell_type": "code",
      "source": "for i in range(5):\n    print(\"Contador\" ,i)",
      "metadata": {
        "trusted": true
      },
      "outputs": [
        {
          "name": "stdout",
          "output_type": "stream",
          "text": "Contador 0\nContador 1\nContador 2\nContador 3\nContador 4\n"
        }
      ],
      "execution_count": 41
    },
    {
      "id": "0de7e3dc-060a-478a-9553-f48d3d19d692",
      "cell_type": "code",
      "source": "",
      "metadata": {
        "trusted": true
      },
      "outputs": [],
      "execution_count": null
    }
  ]
}